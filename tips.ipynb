{
  "cells": [
    {
      "cell_type": "markdown",
      "metadata": {
        "id": "NQSTrHVBrJJX"
      },
      "source": [
        "# 🐍 Python Tips & Tricks Notebook  \n",
        "\n",
        "Welcome! 👋  \n",
        "\n",
        "This notebook is a growing collection of **useful tips, tricks, and explanations** that I’ve learned while working with Python.  \n",
        "It will serve as a **personal knowledge base** — a place where I can quickly revisit important concepts, code snippets, and best practices."
      ]
    },
    {
      "cell_type": "markdown",
      "metadata": {
        "id": "rQ99qUhgrJJf"
      },
      "source": [
        "## Import Enviroment Variables"
      ]
    },
    {
      "cell_type": "code",
      "execution_count": null,
      "metadata": {
        "id": "57Kotm74rJJg"
      },
      "outputs": [],
      "source": [
        "from dotenv import load_dotenv\n",
        "import os\n",
        "\n",
        "load_dotenv('.env')\n",
        "API_KEY = os.getenv('API_KEY')\n",
        "USERNAME = os.getenv('USERNAMEE')\n",
        "\n",
        "print(f\"API_KEY: {API_KEY}\")\n",
        "print(f\"USERNAME: {USERNAME}\")\n",
        "PASSWORD = os.getenv('PASSWORD')"
      ]
    },
    {
      "cell_type": "markdown",
      "metadata": {
        "id": "mCMWhKJKrJJk"
      },
      "source": [
        "## Format Large Numbers"
      ]
    },
    {
      "cell_type": "code",
      "execution_count": 1,
      "metadata": {
        "colab": {
          "base_uri": "https://localhost:8080/"
        },
        "id": "ye84liknrJJl",
        "outputId": "b04fa58d-0cfb-4d09-f7af-1cad01d37ea7"
      },
      "outputs": [
        {
          "name": "stdout",
          "output_type": "stream",
          "text": [
            "1000000000\n"
          ]
        }
      ],
      "source": [
        "billion: int = 1_000_000_000\n",
        "print(billion)"
      ]
    },
    {
      "cell_type": "code",
      "execution_count": 2,
      "metadata": {
        "colab": {
          "base_uri": "https://localhost:8080/"
        },
        "id": "EqwUwGeBrJJl",
        "outputId": "a9a79ee4-664b-4ec2-f967-ef1a71339318"
      },
      "outputs": [
        {
          "name": "stdout",
          "output_type": "stream",
          "text": [
            "1,000,000\n"
          ]
        }
      ],
      "source": [
        "my_number = 1_000_000\n",
        "print(f\"{my_number:,}\")\n",
        "\n",
        "# 1,000,000"
      ]
    },
    {
      "cell_type": "code",
      "execution_count": 3,
      "metadata": {
        "colab": {
          "base_uri": "https://localhost:8080/"
        },
        "id": "Nq7p4kuUrJJm",
        "outputId": "c5b1f639-578b-4b6b-d392-d4d2f43062e2"
      },
      "outputs": [
        {
          "name": "stdout",
          "output_type": "stream",
          "text": [
            "my_number=1000000\n"
          ]
        }
      ],
      "source": [
        "print(f\"{my_number=}\")\n",
        "#my_number=1000000"
      ]
    },
    {
      "cell_type": "code",
      "execution_count": 4,
      "metadata": {
        "colab": {
          "base_uri": "https://localhost:8080/"
        },
        "id": "CVmPMNkjrJJo",
        "outputId": "86cfc0ef-a16a-472c-bd5a-2e85a8e6556c"
      },
      "outputs": [
        {
          "name": "stdout",
          "output_type": "stream",
          "text": [
            "3.142\n"
          ]
        }
      ],
      "source": [
        "pi = 3.14159_26535_89793\n",
        "places:int = 3\n",
        "print(f\"{pi:.{places}f}\")"
      ]
    },
    {
      "cell_type": "code",
      "execution_count": 5,
      "metadata": {
        "colab": {
          "base_uri": "https://localhost:8080/"
        },
        "id": "pC_t6TAdrJJp",
        "outputId": "7fa4d7fa-6340-4e83-df9f-a3f37969c3b9"
      },
      "outputs": [
        {
          "name": "stdout",
          "output_type": "stream",
          "text": [
            "Not found\n"
          ]
        }
      ],
      "source": [
        "#No error if the key does not exist\n",
        "\n",
        "users: dict[int,str] = {0:'Bob', 1:'Alice'}\n",
        "\n",
        "print(users.get(2, 'Not found'))"
      ]
    },
    {
      "cell_type": "markdown",
      "metadata": {
        "id": "cN-AyY1UrJJr"
      },
      "source": [
        "## \"__main__\""
      ]
    },
    {
      "cell_type": "markdown",
      "metadata": {
        "id": "Gk_WakTkrJJt"
      },
      "source": [
        "When you import a module the whole code will run, so if you don't want this to execute, move it inside a\n",
        "´if __name__= __main__´\n",
        "\n",
        "Use this if you only need to run this code on the main field"
      ]
    },
    {
      "cell_type": "code",
      "execution_count": null,
      "metadata": {
        "id": "T3Ph6K9LrJJu"
      },
      "outputs": [],
      "source": [
        "#Module 1\n",
        "\n",
        "if __name__== \"__main__\":\n",
        "    print('This is the main folder')"
      ]
    },
    {
      "cell_type": "code",
      "execution_count": null,
      "metadata": {
        "id": "GgJdKt-TrJJv"
      },
      "outputs": [],
      "source": [
        "import module1\n",
        "\n",
        "print(f'__name__:{__name__}')"
      ]
    },
    {
      "cell_type": "markdown",
      "metadata": {
        "id": "qQTwB4GcrJJw"
      },
      "source": [
        "## Lambda\n",
        "\n",
        "No return require\n",
        "No name require"
      ]
    },
    {
      "cell_type": "code",
      "execution_count": 6,
      "metadata": {
        "colab": {
          "base_uri": "https://localhost:8080/"
        },
        "id": "QROvj-vhrJJy",
        "outputId": "a1d0ca71-c88f-489c-9ef8-cda5051b6f31"
      },
      "outputs": [
        {
          "data": {
            "text/plain": [
              "<function __main__.<lambda>(parameter)>"
            ]
          },
          "execution_count": 6,
          "metadata": {},
          "output_type": "execute_result"
        }
      ],
      "source": [
        "parameter = 1\n",
        "lambda parameter: parameter**2"
      ]
    },
    {
      "cell_type": "markdown",
      "metadata": {
        "id": "58PbdIadrJJz"
      },
      "source": [
        "are used as paramater in a higher order function"
      ]
    },
    {
      "cell_type": "code",
      "execution_count": 7,
      "metadata": {
        "colab": {
          "base_uri": "https://localhost:8080/"
        },
        "id": "hONQCVBUrJJ0",
        "outputId": "b544f6b4-9878-4dee-e3ca-95ef489903fe"
      },
      "outputs": [
        {
          "data": {
            "text/plain": [
              "[27, 64]"
            ]
          },
          "execution_count": 7,
          "metadata": {},
          "output_type": "execute_result"
        }
      ],
      "source": [
        "def transform_list(num_list, tranformer):\n",
        "    val1= tranformer(num_list[0])\n",
        "    val2= tranformer(num_list[1])\n",
        "    return [val1,val2]\n",
        "\n",
        "transform_list([3,4],lambda num: num**3)\n"
      ]
    },
    {
      "cell_type": "markdown",
      "metadata": {
        "id": "Uo-b6lV8rJJ1"
      },
      "source": [
        "## Map & Filter"
      ]
    },
    {
      "cell_type": "markdown",
      "metadata": {
        "id": "7R5jcR3erJJ1"
      },
      "source": [
        "Can use a list of any length"
      ]
    },
    {
      "cell_type": "code",
      "execution_count": 8,
      "metadata": {
        "colab": {
          "base_uri": "https://localhost:8080/"
        },
        "id": "DgF9MKwsrJJ2",
        "outputId": "b50b5ff0-9860-4b34-ec0a-9691d9475847"
      },
      "outputs": [
        {
          "data": {
            "text/plain": [
              "[8, 27, 1, 64, 125, 216]"
            ]
          },
          "execution_count": 8,
          "metadata": {},
          "output_type": "execute_result"
        }
      ],
      "source": [
        "num_list = [2,3,1,4,5,6]\n",
        "\n",
        "list(map(lambda num: num**3, num_list))"
      ]
    },
    {
      "cell_type": "code",
      "execution_count": 9,
      "metadata": {
        "colab": {
          "base_uri": "https://localhost:8080/"
        },
        "id": "gnqA8-OCrJJ3",
        "outputId": "eb608273-4bb5-46b2-ed6f-fb6e1052e6d5"
      },
      "outputs": [
        {
          "data": {
            "text/plain": [
              "[2, 4, 6]"
            ]
          },
          "execution_count": 9,
          "metadata": {},
          "output_type": "execute_result"
        }
      ],
      "source": [
        "list(filter(lambda num: num%2==0,num_list))"
      ]
    },
    {
      "cell_type": "code",
      "execution_count": null,
      "metadata": {},
      "outputs": [],
      "source": [
        "from visual"
      ]
    },
    {
      "cell_type": "markdown",
      "metadata": {},
      "source": [
        "again\n"
      ]
    }
  ],
  "metadata": {
    "colab": {
      "provenance": []
    },
    "kernelspec": {
      "display_name": "Python 3.8.10 64-bit",
      "language": "python",
      "name": "python3"
    },
    "language_info": {
      "name": "python",
      "version": "3.8.10"
    },
    "orig_nbformat": 4,
    "vscode": {
      "interpreter": {
        "hash": "ade291252ca48972da438f7ed55a412846fc35bc1cdb3e0cc1589f279afb43cc"
      }
    }
  },
  "nbformat": 4,
  "nbformat_minor": 0
}
