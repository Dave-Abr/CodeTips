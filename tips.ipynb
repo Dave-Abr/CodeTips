{
 "cells": [
  {
   "cell_type": "markdown",
   "metadata": {},
   "source": [
    "# 🐍 Python Tips & Tricks Notebook  \n",
    "\n",
    "Welcome! 👋  \n",
    "\n",
    "This notebook is a growing collection of **useful tips, tricks, and explanations** that I’ve learned while working with Python.  \n",
    "It will serve as a **personal knowledge base** — a place where I can quickly revisit important concepts, code snippets, and best practices. "
   ]
  },
  {
   "cell_type": "markdown",
   "metadata": {},
   "source": [
    "## Import Enviroment Variables"
   ]
  },
  {
   "cell_type": "code",
   "execution_count": null,
   "metadata": {},
   "outputs": [],
   "source": [
    "from dotenv import load_dotenv\n",
    "import os\n",
    "\n",
    "load_dotenv('.env')\n",
    "API_KEY = os.getenv('API_KEY')\n",
    "USERNAME = os.getenv('USERNAMEE')\n",
    "\n",
    "print(f\"API_KEY: {API_KEY}\")\n",
    "print(f\"USERNAME: {USERNAME}\")\n",
    "PASSWORD = os.getenv('PASSWORD')"
   ]
  },
  {
   "cell_type": "markdown",
   "metadata": {},
   "source": [
    "## Format Large Numbers"
   ]
  },
  {
   "cell_type": "code",
   "execution_count": null,
   "metadata": {},
   "outputs": [],
   "source": [
    "billion: int = 1_000_000_000\n",
    "print(billion)"
   ]
  },
  {
   "cell_type": "code",
   "execution_count": null,
   "metadata": {},
   "outputs": [],
   "source": [
    "my_number = 1_000_000\n",
    "print(f\"{my_number:,}\")\n",
    "\n",
    "#1,000,000"
   ]
  },
  {
   "cell_type": "code",
   "execution_count": null,
   "metadata": {},
   "outputs": [],
   "source": [
    "print(f\"{my_number=}\")\n",
    "#my_number=1000000"
   ]
  },
  {
   "cell_type": "code",
   "execution_count": null,
   "metadata": {},
   "outputs": [],
   "source": [
    "pi = 3.14159_26535_89793\n",
    "places:int = 3\n",
    "print(f\"{pi:.{places}f}\")"
   ]
  },
  {
   "cell_type": "code",
   "execution_count": null,
   "metadata": {},
   "outputs": [],
   "source": [
    "#No error if the key does not exist\n",
    "\n",
    "users: dict[int,str] = {0:'Bob', 1:'Alice'}\n",
    "\n",
    "print(users.get(2, 'Not found'))"
   ]
  },
  {
   "cell_type": "markdown",
   "metadata": {},
   "source": [
    "## \"__main__\""
   ]
  },
  {
   "cell_type": "markdown",
   "metadata": {},
   "source": [
    "When you import a module the whole code will run, so if you don't want this to execute, move it inside a \n",
    "´if __name__= __main__´\n",
    "\n",
    "Use this if you only need to run this code on the main field"
   ]
  },
  {
   "cell_type": "code",
   "execution_count": null,
   "metadata": {},
   "outputs": [],
   "source": [
    "#Module 1\n",
    "\n",
    "if __name__== \"__main__\":\n",
    "    print('This is the main folder')"
   ]
  },
  {
   "cell_type": "code",
   "execution_count": null,
   "metadata": {},
   "outputs": [],
   "source": [
    "import module1\n",
    "\n",
    "print(f'__name__:{__name__}')"
   ]
  },
  {
   "cell_type": "markdown",
   "metadata": {},
   "source": [
    "## Lambda\n",
    "\n",
    "No return require\n",
    "No name require"
   ]
  },
  {
   "cell_type": "code",
   "execution_count": null,
   "metadata": {},
   "outputs": [],
   "source": [
    "parameter = 1\n",
    "lambda parameter: parameter**2"
   ]
  },
  {
   "cell_type": "markdown",
   "metadata": {},
   "source": [
    "are used as paramater in a higher order function"
   ]
  },
  {
   "cell_type": "code",
   "execution_count": null,
   "metadata": {},
   "outputs": [],
   "source": [
    "def transform_list(num_list, tranformer):\n",
    "    val1= tranformer(num_list[0])\n",
    "    val2= tranformer(num_list[1])\n",
    "    return [val1,val2]\n",
    "\n",
    "transform_list([3,4],lambda num: num**3)\n",
    "    "
   ]
  },
  {
   "cell_type": "markdown",
   "metadata": {},
   "source": [
    "## Map & Filter "
   ]
  },
  {
   "cell_type": "markdown",
   "metadata": {},
   "source": [
    "Can use a list of any length"
   ]
  },
  {
   "cell_type": "code",
   "execution_count": null,
   "metadata": {},
   "outputs": [],
   "source": [
    "num_list = [2,3,1,4,5,6]\n",
    "\n",
    "list(map(lambda num: num**3, num_list))"
   ]
  },
  {
   "cell_type": "code",
   "execution_count": null,
   "metadata": {},
   "outputs": [],
   "source": [
    "list(filter(lambda num: num%2==0,num_list))"
   ]
  }
 ],
 "metadata": {
  "kernelspec": {
   "display_name": "Python 3.8.10 64-bit",
   "language": "python",
   "name": "python3"
  },
  "language_info": {
   "name": "python",
   "version": "3.8.10"
  },
  "orig_nbformat": 4,
  "vscode": {
   "interpreter": {
    "hash": "ade291252ca48972da438f7ed55a412846fc35bc1cdb3e0cc1589f279afb43cc"
   }
  }
 },
 "nbformat": 4,
 "nbformat_minor": 2
}
